{
 "cells": [
  {
   "cell_type": "code",
   "execution_count": 52,
   "id": "e9da62a4-cfc5-48c6-9c1b-cd939ffd6b95",
   "metadata": {},
   "outputs": [],
   "source": [
    "from  pycirclize import *\n",
    "from pycirclize.utils import load_example_tree_file, ColorCycler\n",
    "from matplotlib.lines import Line2D\n",
    "from Bio.SeqUtils.ProtParam import ProteinAnalysis\n",
    "import pandas as pd\n",
    "import numpy as np"
   ]
  },
  {
   "cell_type": "markdown",
   "id": "c7c88a11-7432-4c39-9a55-da046548e2b9",
   "metadata": {},
   "source": [
    "## Generatre phylogenic tree and show properties of sequence"
   ]
  },
  {
   "cell_type": "code",
   "execution_count": 105,
   "id": "7eef0e0c-b1c3-46ec-b17f-141de51dd0ce",
   "metadata": {},
   "outputs": [],
   "source": [
    "tree_file = \"CoV2_highph_salt_CDR3_tree.nwk\"\n",
    "circos, tv = Circos.initialize_from_tree(\n",
    "    tree_file,\n",
    "    r_lim=(10, 63),\n",
    "    leaf_label_size=0,\n",
    "    outer=True, \n",
    "    align_leaf_label=False, \n",
    "    ignore_branch_length=True,\n",
    "    line_kws=dict(color=\"lightgrey\", lw=1.0),\n",
    ")\n"
   ]
  },
  {
   "cell_type": "code",
   "execution_count": 91,
   "id": "7cc80b9d-cb75-4685-b805-9320a8cabd2f",
   "metadata": {},
   "outputs": [],
   "source": [
    "cdr3s = [x.replace(\"_\",\"\") for x in tv.leaf_labels]\n",
    "pIs = [ProteinAnalysis(cdr3).isoelectric_point() for cdr3 in cdr3s]\n",
    "gravys = [ProteinAnalysis(cdr3).gravy() for cdr3 in cdr3s]\n",
    "lengths  = [len(cdr3) for cdr3 in cdr3s]\n",
    "\n",
    "df = pd.DataFrame(\n",
    "    dict(\n",
    "        pI=pIs,\n",
    "        phydrophobicity=gravys,\n",
    "        lengths=lengths,\n",
    "    ),\n",
    "    index=tv.leaf_labels,\n",
    ")"
   ]
  },
  {
   "cell_type": "code",
   "execution_count": 108,
   "id": "d02793b7-3c8d-450c-95b1-0c57ef5832ec",
   "metadata": {},
   "outputs": [],
   "source": [
    "# Plot heatmaps (from `s1, s2, s3` column data)\n",
    "sector = tv.track.parent_sector\n",
    "track1 = sector.add_track((65, 75))\n",
    "track1.heatmap(df[\"pI\"].to_numpy(), cmap=\"coolwarm\", show_value=False,vmin=min(pIs),vmax=max(pIs), rect_kws=dict(ec=\"grey\", lw=0))\n",
    "#circos.text(\"pI\", r=track1.r_center, size=8, color=\"red\")\n",
    "circos.colorbar(\n",
    "    bounds = (1, 0.6, 0.02, 0.3),\n",
    "    vmin=min(pIs),\n",
    "    vmax=max(pIs),\n",
    "    cmap=\"coolwarm\",\n",
    "    orientation=\"vertical\",\n",
    "    colorbar_kws=dict(label=\"Isoelectric Point\"))\n",
    "track2 = sector.add_track((77, 87))\n",
    "track2.heatmap(df[\"phydrophobicity\"].to_numpy(),cmap=\"BrBG\",vmin=min(gravys),vmax=max(gravys), show_value=False, rect_kws=dict(ec=\"grey\", lw=0))\n",
    "circos.colorbar(\n",
    "    bounds=(1.2, 0.6, 0.02, 0.3),\n",
    "    vmin=min(gravys),\n",
    "    vmax=max(gravys),\n",
    "    cmap=\"BrBG\",\n",
    "    orientation=\"vertical\",\n",
    "    colorbar_kws=dict(label=\"Hydrophobicity\"))\n",
    "\n",
    "bar_track = sector.add_track((89, 99), r_pad_ratio=0.1)\n",
    "#bar_track.axis()\n",
    "#bar_track.grid()\n",
    "x = np.arange(0, tv.leaf_num) + 0.5\n",
    "y = df[\"lengths\"].to_numpy()\n",
    "bar_track.bar(x, y, width=1,lw=0.5,color=\"orange\")\n",
    "\n",
    "circos.text('#CDR=667')\n",
    "\n",
    "\n",
    "circos.savefig(\"result.pdf\")"
   ]
  }
 ],
 "metadata": {
  "kernelspec": {
   "display_name": "Python 3 (ipykernel)",
   "language": "python",
   "name": "python3"
  },
  "language_info": {
   "codemirror_mode": {
    "name": "ipython",
    "version": 3
   },
   "file_extension": ".py",
   "mimetype": "text/x-python",
   "name": "python",
   "nbconvert_exporter": "python",
   "pygments_lexer": "ipython3",
   "version": "3.8.18"
  }
 },
 "nbformat": 4,
 "nbformat_minor": 5
}
